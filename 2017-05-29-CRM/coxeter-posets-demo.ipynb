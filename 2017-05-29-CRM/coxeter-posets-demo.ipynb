{
 "cells": [
  {
   "cell_type": "markdown",
   "metadata": {},
   "source": [
    "# Exploring posets related to coxeter groups"
   ]
  },
  {
   "cell_type": "code",
   "execution_count": 1,
   "metadata": {
    "collapsed": true,
    "deletable": true,
    "editable": true
   },
   "outputs": [],
   "source": [
    "%display latex"
   ]
  },
  {
   "cell_type": "code",
   "execution_count": 2,
   "metadata": {
    "collapsed": false,
    "deletable": true,
    "editable": true
   },
   "outputs": [],
   "source": [
    "W = CoxeterGroup([\"B\",3])"
   ]
  },
  {
   "cell_type": "code",
   "execution_count": 3,
   "metadata": {
    "collapsed": false,
    "deletable": true,
    "editable": true
   },
   "outputs": [],
   "source": [
    "P = W.bruhat_poset()"
   ]
  },
  {
   "cell_type": "code",
   "execution_count": 4,
   "metadata": {
    "collapsed": false,
    "deletable": true,
    "editable": true
   },
   "outputs": [],
   "source": [
    "G = P.hasse_diagram()"
   ]
  },
  {
   "cell_type": "code",
   "execution_count": 5,
   "metadata": {
    "collapsed": false,
    "deletable": true,
    "editable": true
   },
   "outputs": [],
   "source": [
    "G.set_latex_options(format=\"dot2tex\")"
   ]
  },
  {
   "cell_type": "code",
   "execution_count": 6,
   "metadata": {
    "collapsed": false,
    "deletable": true,
    "editable": true
   },
   "outputs": [],
   "source": [
    "view(G)"
   ]
  },
  {
   "cell_type": "code",
   "execution_count": 7,
   "metadata": {
    "collapsed": true,
    "deletable": true,
    "editable": true
   },
   "outputs": [],
   "source": [
    "W = CoxeterGroup([\"B\",4])"
   ]
  },
  {
   "cell_type": "code",
   "execution_count": 8,
   "metadata": {
    "collapsed": false,
    "deletable": true,
    "editable": true
   },
   "outputs": [],
   "source": [
    "c = W.coxeter_element()"
   ]
  },
  {
   "cell_type": "code",
   "execution_count": 9,
   "metadata": {
    "collapsed": false,
    "deletable": true,
    "editable": true
   },
   "outputs": [
    {
     "data": {
      "text/html": [
       "<html><script type=\"math/tex; mode=display\">\\newcommand{\\Bold}[1]{\\mathbf{#1}}\\left[\\right]</script></html>"
      ],
      "text/plain": [
       "[]"
      ]
     },
     "execution_count": 9,
     "metadata": {},
     "output_type": "execute_result"
    }
   ],
   "source": [
    "c.absolute_covers()"
   ]
  },
  {
   "cell_type": "code",
   "execution_count": 10,
   "metadata": {
    "collapsed": false,
    "deletable": true,
    "editable": true
   },
   "outputs": [
    {
     "data": {
      "text/html": [
       "<html><script type=\"math/tex; mode=display\">\\newcommand{\\Bold}[1]{\\mathbf{#1}}\\left[4\\right]</script></html>"
      ],
      "text/plain": [
       "[4]"
      ]
     },
     "execution_count": 10,
     "metadata": {},
     "output_type": "execute_result"
    }
   ],
   "source": [
    "c.descents()"
   ]
  },
  {
   "cell_type": "code",
   "execution_count": 11,
   "metadata": {
    "collapsed": false,
    "deletable": true,
    "editable": true
   },
   "outputs": [
    {
     "data": {
      "text/html": [
       "<html><script type=\"math/tex; mode=display\">\\newcommand{\\Bold}[1]{\\mathbf{#1}}\\left(\\begin{array}{rrrr}\n",
       "0 & 0 & 1 & -\\sqrt{2} \\\\\n",
       "1 & 0 & 1 & -\\sqrt{2} \\\\\n",
       "0 & 1 & 1 & -\\sqrt{2} \\\\\n",
       "0 & 0 & \\sqrt{2} & -1\n",
       "\\end{array}\\right)</script></html>"
      ],
      "text/plain": [
       "[ 0  0  1 -a]\n",
       "[ 1  0  1 -a]\n",
       "[ 0  1  1 -a]\n",
       "[ 0  0  a -1]"
      ]
     },
     "execution_count": 11,
     "metadata": {},
     "output_type": "execute_result"
    }
   ],
   "source": [
    "c.matrix()"
   ]
  },
  {
   "cell_type": "code",
   "execution_count": 12,
   "metadata": {
    "collapsed": false,
    "deletable": true,
    "editable": true
   },
   "outputs": [
    {
     "data": {
      "text/html": [
       "<html><script type=\"math/tex; mode=display\">\\newcommand{\\Bold}[1]{\\mathbf{#1}}\\left[\\left(\\begin{array}{rrrr}\n",
       "0 & 0 & -1 & \\sqrt{2} \\\\\n",
       "1 & 0 & -1 & \\sqrt{2} \\\\\n",
       "0 & 1 & -1 & \\sqrt{2} \\\\\n",
       "0 & 0 & 0 & 1\n",
       "\\end{array}\\right)\\right]</script></html>"
      ],
      "text/plain": [
       "[\n",
       "[ 0  0 -1  a]\n",
       "[ 1  0 -1  a]\n",
       "[ 0  1 -1  a]\n",
       "[ 0  0  0  1]\n",
       "]"
      ]
     },
     "execution_count": 12,
     "metadata": {},
     "output_type": "execute_result"
    }
   ],
   "source": [
    "c.weak_covers()"
   ]
  },
  {
   "cell_type": "code",
   "execution_count": 13,
   "metadata": {
    "collapsed": false,
    "deletable": true,
    "editable": true
   },
   "outputs": [],
   "source": [
    "L = W.weak_lattice()"
   ]
  },
  {
   "cell_type": "code",
   "execution_count": 14,
   "metadata": {
    "collapsed": false,
    "deletable": true,
    "editable": true
   },
   "outputs": [
    {
     "name": "stdout",
     "output_type": "stream",
     "text": [
      "Category of finite enumerated lattice posets\n"
     ]
    }
   ],
   "source": [
    "print(L.category())"
   ]
  },
  {
   "cell_type": "code",
   "execution_count": 15,
   "metadata": {
    "collapsed": false,
    "deletable": true,
    "editable": true
   },
   "outputs": [
    {
     "data": {
      "text/html": [
       "<html><script type=\"math/tex; mode=display\">\\newcommand{\\Bold}[1]{\\mathbf{#1}}\\mathrm{False}</script></html>"
      ],
      "text/plain": [
       "False"
      ]
     },
     "execution_count": 15,
     "metadata": {},
     "output_type": "execute_result"
    }
   ],
   "source": [
    "L.is_supersolvable()"
   ]
  },
  {
   "cell_type": "code",
   "execution_count": 16,
   "metadata": {
    "collapsed": false,
    "deletable": true,
    "editable": true
   },
   "outputs": [
    {
     "data": {
      "text/html": [
       "<html><script type=\"math/tex; mode=display\">\\newcommand{\\Bold}[1]{\\mathbf{#1}}\\mathrm{True}</script></html>"
      ],
      "text/plain": [
       "True"
      ]
     },
     "execution_count": 16,
     "metadata": {},
     "output_type": "execute_result"
    }
   ],
   "source": [
    "L.is_selfdual()"
   ]
  },
  {
   "cell_type": "code",
   "execution_count": 17,
   "metadata": {
    "collapsed": false,
    "deletable": true,
    "editable": true
   },
   "outputs": [
    {
     "data": {
      "text/html": [
       "<html><script type=\"math/tex; mode=display\">\\newcommand{\\Bold}[1]{\\mathbf{#1}}\\verb|Set|\\phantom{\\verb!x!}\\verb|of|\\phantom{\\verb!x!}\\verb|chains|\\phantom{\\verb!x!}\\verb|of|\\phantom{\\verb!x!}\\verb|Finite|\\phantom{\\verb!x!}\\verb|lattice|\\phantom{\\verb!x!}\\verb|containing|\\phantom{\\verb!x!}\\verb|384|\\phantom{\\verb!x!}\\verb|elements|</script></html>"
      ],
      "text/plain": [
       "Set of chains of Finite lattice containing 384 elements"
      ]
     },
     "execution_count": 17,
     "metadata": {},
     "output_type": "execute_result"
    }
   ],
   "source": [
    "L.chains()"
   ]
  },
  {
   "cell_type": "markdown",
   "metadata": {},
   "source": [
    "The absolute order is not yet available for Weyl groups. In the mean time, we construct the same group as a reflection group."
   ]
  },
  {
   "cell_type": "code",
   "execution_count": 18,
   "metadata": {
    "collapsed": false,
    "deletable": true,
    "editable": true
   },
   "outputs": [],
   "source": [
    "W = ReflectionGroup([2,1,3])"
   ]
  },
  {
   "cell_type": "code",
   "execution_count": null,
   "metadata": {
    "collapsed": true,
    "deletable": true,
    "editable": true
   },
   "outputs": [],
   "source": []
  },
  {
   "cell_type": "code",
   "execution_count": 19,
   "metadata": {
    "collapsed": false,
    "deletable": true,
    "editable": true
   },
   "outputs": [
    {
     "data": {
      "text/html": [
       "<html><script type=\"math/tex; mode=display\">\\newcommand{\\Bold}[1]{\\mathbf{#1}}48</script></html>"
      ],
      "text/plain": [
       "48"
      ]
     },
     "execution_count": 19,
     "metadata": {},
     "output_type": "execute_result"
    }
   ],
   "source": [
    "W.cardinality()"
   ]
  },
  {
   "cell_type": "code",
   "execution_count": 20,
   "metadata": {
    "collapsed": false,
    "deletable": true,
    "editable": true
   },
   "outputs": [],
   "source": [
    "P = W.absolute_poset()"
   ]
  },
  {
   "cell_type": "code",
   "execution_count": 21,
   "metadata": {
    "collapsed": false,
    "deletable": true,
    "editable": true
   },
   "outputs": [],
   "source": [
    "s = W.simple_reflections()"
   ]
  },
  {
   "cell_type": "code",
   "execution_count": 22,
   "metadata": {
    "collapsed": false,
    "deletable": true,
    "editable": true
   },
   "outputs": [
    {
     "data": {
      "text/html": [
       "<html><script type=\"math/tex; mode=display\">\\newcommand{\\Bold}[1]{\\mathbf{#1}}\\verb|Finite|\\phantom{\\verb!x!}\\verb|family|\\phantom{\\verb!x!}\\verb|{1:|\\phantom{\\verb!x!}\\verb|(1,10)(2,6)(5,8)(11,15)(14,17),|\\phantom{\\verb!x!}\\verb|2:|\\phantom{\\verb!x!}\\verb|(1,4)(2,11)(3,5)(8,9)(10,13)(12,14)(17,18),|\\phantom{\\verb!x!}\\verb|3:|\\phantom{\\verb!x!}\\verb|(2,5)(3,12)(4,7)(6,8)(11,14)(13,16)(15,17)}|</script></html>"
      ],
      "text/plain": [
       "Finite family {1: (1,10)(2,6)(5,8)(11,15)(14,17), 2: (1,4)(2,11)(3,5)(8,9)(10,13)(12,14)(17,18), 3: (2,5)(3,12)(4,7)(6,8)(11,14)(13,16)(15,17)}"
      ]
     },
     "execution_count": 22,
     "metadata": {},
     "output_type": "execute_result"
    }
   ],
   "source": [
    "s"
   ]
  },
  {
   "cell_type": "code",
   "execution_count": 23,
   "metadata": {
    "collapsed": false,
    "deletable": true,
    "editable": true
   },
   "outputs": [
    {
     "data": {
      "text/html": [
       "<html><script type=\"math/tex; mode=display\">\\newcommand{\\Bold}[1]{\\mathbf{#1}}(1,10)(2,6)(5,8)(11,15)(14,17)</script></html>"
      ],
      "text/plain": [
       "(1,10)(2,6)(5,8)(11,15)(14,17)"
      ]
     },
     "execution_count": 23,
     "metadata": {},
     "output_type": "execute_result"
    }
   ],
   "source": [
    "s[1]"
   ]
  },
  {
   "cell_type": "code",
   "execution_count": 24,
   "metadata": {
    "collapsed": false,
    "deletable": true,
    "editable": true
   },
   "outputs": [],
   "source": [
    "I = P.interval(W.one(), s[1]*s[2]*s[3])"
   ]
  },
  {
   "cell_type": "code",
   "execution_count": 25,
   "metadata": {
    "collapsed": false,
    "deletable": true,
    "editable": true
   },
   "outputs": [
    {
     "data": {
      "text/html": [
       "<html><script type=\"math/tex; mode=display\">\\newcommand{\\Bold}[1]{\\mathbf{#1}}\\left[, (3,18)(5,17)(7,16)(8,14)(9,12), (2,5)(3,12)(4,7)(6,8)(11,14)(13,16)(15,17), (2,15)(3,9)(4,13)(6,11)(12,18), (2,17)(4,16)(5,15)(6,14)(7,13)(8,11)(9,18), (2,17,15,5)(3,9,12,18)(4,16,13,7)(6,14,11,8), (1,4)(2,11)(3,5)(8,9)(10,13)(12,14)(17,18), (1,4)(2,11)(3,17)(5,18)(7,16)(8,12)(9,14)(10,13), (1,7)(2,12)(3,11)(5,14)(6,9)(10,16)(15,18), (1,7,4)(2,14,3)(5,12,11)(6,8,9)(10,16,13)(15,17,18), (1,10)(2,6)(5,8)(11,15)(14,17), (1,10)(2,8)(3,12)(4,7)(5,6)(11,17)(13,16)(14,15), (1,13)(3,8)(4,10)(5,9)(6,15)(12,17)(14,18), (1,13,10,4)(2,6,11,15)(3,5,9,8)(12,14,18,17), (1,16)(2,9)(3,15)(6,12)(7,10)(8,17)(11,18), (1,16)(2,3)(4,13)(6,18)(7,10)(8,17)(9,15)(11,12), (1,16,13)(2,5,9)(3,6,17)(4,10,7)(8,12,15)(11,14,18), (1,16,4)(2,8,18)(3,15,5)(6,14,12)(7,13,10)(9,11,17), (1,16,10,7)(2,9,6,12)(3,11,18,15)(5,8,14,17), (1,16,13,10,7,4)(2,8,12,11,17,3)(5,9,6,14,18,15)\\right]</script></html>"
      ],
      "text/plain": [
       "[(),\n",
       " (3,18)(5,17)(7,16)(8,14)(9,12),\n",
       " (2,5)(3,12)(4,7)(6,8)(11,14)(13,16)(15,17),\n",
       " (2,15)(3,9)(4,13)(6,11)(12,18),\n",
       " (2,17)(4,16)(5,15)(6,14)(7,13)(8,11)(9,18),\n",
       " (2,17,15,5)(3,9,12,18)(4,16,13,7)(6,14,11,8),\n",
       " (1,4)(2,11)(3,5)(8,9)(10,13)(12,14)(17,18),\n",
       " (1,4)(2,11)(3,17)(5,18)(7,16)(8,12)(9,14)(10,13),\n",
       " (1,7)(2,12)(3,11)(5,14)(6,9)(10,16)(15,18),\n",
       " (1,7,4)(2,14,3)(5,12,11)(6,8,9)(10,16,13)(15,17,18),\n",
       " (1,10)(2,6)(5,8)(11,15)(14,17),\n",
       " (1,10)(2,8)(3,12)(4,7)(5,6)(11,17)(13,16)(14,15),\n",
       " (1,13)(3,8)(4,10)(5,9)(6,15)(12,17)(14,18),\n",
       " (1,13,10,4)(2,6,11,15)(3,5,9,8)(12,14,18,17),\n",
       " (1,16)(2,9)(3,15)(6,12)(7,10)(8,17)(11,18),\n",
       " (1,16)(2,3)(4,13)(6,18)(7,10)(8,17)(9,15)(11,12),\n",
       " (1,16,13)(2,5,9)(3,6,17)(4,10,7)(8,12,15)(11,14,18),\n",
       " (1,16,4)(2,8,18)(3,15,5)(6,14,12)(7,13,10)(9,11,17),\n",
       " (1,16,10,7)(2,9,6,12)(3,11,18,15)(5,8,14,17),\n",
       " (1,16,13,10,7,4)(2,8,12,11,17,3)(5,9,6,14,18,15)]"
      ]
     },
     "execution_count": 25,
     "metadata": {},
     "output_type": "execute_result"
    }
   ],
   "source": [
    "I"
   ]
  },
  {
   "cell_type": "code",
   "execution_count": 26,
   "metadata": {
    "collapsed": false,
    "deletable": true,
    "editable": true
   },
   "outputs": [],
   "source": [
    "I = P.subposet(I)"
   ]
  },
  {
   "cell_type": "code",
   "execution_count": 27,
   "metadata": {
    "collapsed": false,
    "deletable": true,
    "editable": true
   },
   "outputs": [
    {
     "data": {
      "image/png": "[encoded data removed]",
      "text/plain": [
       "Graphics object consisting of 66 graphics primitives"
      ]
     },
     "execution_count": 27,
     "metadata": {},
     "output_type": "execute_result"
    }
   ],
   "source": [
    "I.plot()"
   ]
  },
  {
   "cell_type": "code",
   "execution_count": 28,
   "metadata": {
    "collapsed": false,
    "deletable": true,
    "editable": true
   },
   "outputs": [
    {
     "data": {
      "text/html": [
       "<html><script type=\"math/tex; mode=display\">\\newcommand{\\Bold}[1]{\\mathbf{#1}}\\mathrm{True}</script></html>"
      ],
      "text/plain": [
       "True"
      ]
     },
     "execution_count": 28,
     "metadata": {},
     "output_type": "execute_result"
    }
   ],
   "source": [
    "I.is_lattice()"
   ]
  },
  {
   "cell_type": "code",
   "execution_count": 29,
   "metadata": {
    "collapsed": true,
    "deletable": true,
    "editable": true
   },
   "outputs": [],
   "source": [
    "I = LatticePoset(I)"
   ]
  },
  {
   "cell_type": "code",
   "execution_count": 30,
   "metadata": {
    "collapsed": false,
    "deletable": true,
    "editable": true
   },
   "outputs": [
    {
     "data": {
      "text/html": [
       "<html><script type=\"math/tex; mode=display\">\\newcommand{\\Bold}[1]{\\mathbf{#1}}\\mathrm{True}</script></html>"
      ],
      "text/plain": [
       "True"
      ]
     },
     "execution_count": 30,
     "metadata": {},
     "output_type": "execute_result"
    }
   ],
   "source": [
    "I.is_supersolvable()"
   ]
  },
  {
   "cell_type": "code",
   "execution_count": null,
   "metadata": {
    "collapsed": true
   },
   "outputs": [],
   "source": []
  }
 ],
 "metadata": {
  "kernelspec": {
   "display_name": "SageMath 8.0.beta6",
   "language": "",
   "name": "sagemath"
  },
  "language_info": {
   "codemirror_mode": {
    "name": "ipython",
    "version": 2
   },
   "file_extension": ".py",
   "mimetype": "text/x-python",
   "name": "python",
   "nbconvert_exporter": "python",
   "pygments_lexer": "ipython2",
   "version": "2.7.13"
  }
 },
 "nbformat": 4,
 "nbformat_minor": 2
}
