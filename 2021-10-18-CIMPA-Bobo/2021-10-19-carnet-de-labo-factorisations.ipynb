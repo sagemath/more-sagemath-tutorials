{
 "cells": [
  {
   "cell_type": "code",
   "execution_count": 1,
   "id": "opposite-trouble",
   "metadata": {},
   "outputs": [],
   "source": [
    "from mots import *"
   ]
  },
  {
   "cell_type": "code",
   "execution_count": 2,
   "id": "sudden-spring",
   "metadata": {},
   "outputs": [],
   "source": [
    "L = [\"a\", \"ab\"]"
   ]
  },
  {
   "cell_type": "code",
   "execution_count": 3,
   "id": "proud-sacramento",
   "metadata": {},
   "outputs": [],
   "source": [
    "def factorisations(u, L):\n",
    "    \"\"\"\n",
    "    Renvoie les factorisations du mot u par rapport au langage L\n",
    "    \"\"\""
   ]
  },
  {
   "cell_type": "code",
   "execution_count": null,
   "id": "multiple-giant",
   "metadata": {},
   "outputs": [],
   "source": [
    "factorisations(\"aaba\", [\"a\", \"ab\"]) == [[ \"a\", \"ab\", \"a\" ]]    "
   ]
  },
  {
   "cell_type": "code",
   "execution_count": null,
   "id": "noted-module",
   "metadata": {},
   "outputs": [],
   "source": [
    "factorisations(\"aaba\", [\"a\", \"ab\", \"ba\"]) == [[ \"a\", \"ab\", \"a\" ], [\"a\", \"a\",\"ba\"]]"
   ]
  }
 ],
 "metadata": {
  "kernelspec": {
   "display_name": "Python 3",
   "language": "python",
   "name": "python3"
  },
  "language_info": {
   "codemirror_mode": {
    "name": "ipython",
    "version": 3
   },
   "file_extension": ".py",
   "mimetype": "text/x-python",
   "name": "python",
   "nbconvert_exporter": "python",
   "pygments_lexer": "ipython3",
   "version": "3.9.1"
  }
 },
 "nbformat": 4,
 "nbformat_minor": 5
}
