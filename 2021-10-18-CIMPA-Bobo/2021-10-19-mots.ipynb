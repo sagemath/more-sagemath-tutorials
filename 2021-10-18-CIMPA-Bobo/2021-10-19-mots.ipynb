{
 "cells": [
  {
   "cell_type": "markdown",
   "id": "progressive-sweden",
   "metadata": {},
   "source": [
    "# Mémo: opérations sur les mots (en Python pur)"
   ]
  },
  {
   "cell_type": "markdown",
   "id": "instructional-leone",
   "metadata": {},
   "source": [
    "## Chargement de notre petite bibliothèque sur les mots:"
   ]
  },
  {
   "cell_type": "code",
   "execution_count": 3,
   "id": "magnetic-forum",
   "metadata": {},
   "outputs": [],
   "source": [
    "from mots import *"
   ]
  },
  {
   "cell_type": "markdown",
   "id": "amazing-statistics",
   "metadata": {},
   "source": [
    "## Opérations usuelles sur les mots"
   ]
  },
  {
   "cell_type": "markdown",
   "id": "historic-approach",
   "metadata": {},
   "source": [
    "Construire un mot:"
   ]
  },
  {
   "cell_type": "code",
   "execution_count": 1,
   "id": "advisory-complex",
   "metadata": {},
   "outputs": [
    {
     "data": {
      "text/plain": [
       "'asdgfasdfasdfasdf'"
      ]
     },
     "execution_count": 1,
     "metadata": {},
     "output_type": "execute_result"
    }
   ],
   "source": [
    "\"asdgfasdfasdfasdf\""
   ]
  },
  {
   "cell_type": "code",
   "execution_count": 2,
   "id": "small-faith",
   "metadata": {},
   "outputs": [],
   "source": [
    "u = \"aba\""
   ]
  },
  {
   "cell_type": "code",
   "execution_count": 3,
   "id": "sound-peripheral",
   "metadata": {},
   "outputs": [],
   "source": [
    "v = \"ab\""
   ]
  },
  {
   "cell_type": "markdown",
   "id": "yellow-myrtle",
   "metadata": {},
   "source": [
    "Concaténation et variations:"
   ]
  },
  {
   "cell_type": "code",
   "execution_count": 4,
   "id": "simple-access",
   "metadata": {},
   "outputs": [
    {
     "data": {
      "text/plain": [
       "'abaab'"
      ]
     },
     "execution_count": 4,
     "metadata": {},
     "output_type": "execute_result"
    }
   ],
   "source": [
    "u + v"
   ]
  },
  {
   "cell_type": "code",
   "execution_count": 5,
   "id": "adult-regard",
   "metadata": {},
   "outputs": [
    {
     "data": {
      "text/plain": [
       "'ababa'"
      ]
     },
     "execution_count": 5,
     "metadata": {},
     "output_type": "execute_result"
    }
   ],
   "source": [
    "v + u"
   ]
  },
  {
   "cell_type": "code",
   "execution_count": 6,
   "id": "demanding-relaxation",
   "metadata": {},
   "outputs": [
    {
     "data": {
      "text/plain": [
       "'abaabaaba'"
      ]
     },
     "execution_count": 6,
     "metadata": {},
     "output_type": "execute_result"
    }
   ],
   "source": [
    "u + u + u"
   ]
  },
  {
   "cell_type": "code",
   "execution_count": 7,
   "id": "musical-vinyl",
   "metadata": {},
   "outputs": [
    {
     "data": {
      "text/plain": [
       "'abaabaaba'"
      ]
     },
     "execution_count": 7,
     "metadata": {},
     "output_type": "execute_result"
    }
   ],
   "source": [
    "u * 3"
   ]
  },
  {
   "cell_type": "code",
   "execution_count": 9,
   "id": "resistant-territory",
   "metadata": {},
   "outputs": [
    {
     "data": {
      "text/plain": [
       "'abaabaaba'"
      ]
     },
     "execution_count": 9,
     "metadata": {},
     "output_type": "execute_result"
    }
   ],
   "source": [
    "3 * u"
   ]
  },
  {
   "cell_type": "markdown",
   "id": "working-railway",
   "metadata": {},
   "source": [
    "Longueur d'un mot:"
   ]
  },
  {
   "cell_type": "code",
   "execution_count": 10,
   "id": "million-chapter",
   "metadata": {},
   "outputs": [
    {
     "data": {
      "text/plain": [
       "3"
      ]
     },
     "execution_count": 10,
     "metadata": {},
     "output_type": "execute_result"
    }
   ],
   "source": [
    "len(u)"
   ]
  },
  {
   "cell_type": "code",
   "execution_count": 19,
   "id": "documentary-aggregate",
   "metadata": {},
   "outputs": [],
   "source": [
    "u = \"abcde\""
   ]
  },
  {
   "cell_type": "markdown",
   "id": "friendly-rubber",
   "metadata": {},
   "source": [
    "u"
   ]
  },
  {
   "cell_type": "code",
   "execution_count": 20,
   "id": "reasonable-breakdown",
   "metadata": {},
   "outputs": [
    {
     "data": {
      "text/plain": [
       "'a'"
      ]
     },
     "execution_count": 20,
     "metadata": {},
     "output_type": "execute_result"
    }
   ],
   "source": [
    "u[0]"
   ]
  },
  {
   "cell_type": "code",
   "execution_count": 21,
   "id": "musical-discount",
   "metadata": {},
   "outputs": [
    {
     "data": {
      "text/plain": [
       "'b'"
      ]
     },
     "execution_count": 21,
     "metadata": {},
     "output_type": "execute_result"
    }
   ],
   "source": [
    "u[1]"
   ]
  },
  {
   "cell_type": "code",
   "execution_count": 22,
   "id": "environmental-estimate",
   "metadata": {},
   "outputs": [
    {
     "data": {
      "text/plain": [
       "'c'"
      ]
     },
     "execution_count": 22,
     "metadata": {},
     "output_type": "execute_result"
    }
   ],
   "source": [
    "u[2]"
   ]
  },
  {
   "cell_type": "code",
   "execution_count": 23,
   "id": "prepared-advocate",
   "metadata": {},
   "outputs": [
    {
     "data": {
      "text/plain": [
       "'d'"
      ]
     },
     "execution_count": 23,
     "metadata": {},
     "output_type": "execute_result"
    }
   ],
   "source": [
    "u[3]"
   ]
  },
  {
   "cell_type": "code",
   "execution_count": 24,
   "id": "fixed-behalf",
   "metadata": {},
   "outputs": [
    {
     "data": {
      "text/plain": [
       "'e'"
      ]
     },
     "execution_count": 24,
     "metadata": {},
     "output_type": "execute_result"
    }
   ],
   "source": [
    "u[-1]"
   ]
  },
  {
   "cell_type": "code",
   "execution_count": 25,
   "id": "variable-backup",
   "metadata": {},
   "outputs": [
    {
     "data": {
      "text/plain": [
       "'d'"
      ]
     },
     "execution_count": 25,
     "metadata": {},
     "output_type": "execute_result"
    }
   ],
   "source": [
    "u[-2]"
   ]
  },
  {
   "cell_type": "code",
   "execution_count": 26,
   "id": "planned-compiler",
   "metadata": {},
   "outputs": [
    {
     "data": {
      "text/plain": [
       "'cd'"
      ]
     },
     "execution_count": 26,
     "metadata": {},
     "output_type": "execute_result"
    }
   ],
   "source": [
    "u[2:4]"
   ]
  },
  {
   "cell_type": "code",
   "execution_count": 27,
   "id": "active-observation",
   "metadata": {},
   "outputs": [
    {
     "data": {
      "text/plain": [
       "'abcde'"
      ]
     },
     "execution_count": 27,
     "metadata": {},
     "output_type": "execute_result"
    }
   ],
   "source": [
    "u"
   ]
  },
  {
   "cell_type": "code",
   "execution_count": 28,
   "id": "selective-figure",
   "metadata": {},
   "outputs": [
    {
     "data": {
      "text/plain": [
       "'abcd'"
      ]
     },
     "execution_count": 28,
     "metadata": {},
     "output_type": "execute_result"
    }
   ],
   "source": [
    "u[:4]"
   ]
  },
  {
   "cell_type": "code",
   "execution_count": 29,
   "id": "laughing-investment",
   "metadata": {},
   "outputs": [
    {
     "data": {
      "text/plain": [
       "'e'"
      ]
     },
     "execution_count": 29,
     "metadata": {},
     "output_type": "execute_result"
    }
   ],
   "source": [
    "u[4:]"
   ]
  },
  {
   "cell_type": "code",
   "execution_count": 30,
   "id": "wireless-candidate",
   "metadata": {},
   "outputs": [
    {
     "data": {
      "text/plain": [
       "'abcde'"
      ]
     },
     "execution_count": 30,
     "metadata": {},
     "output_type": "execute_result"
    }
   ],
   "source": [
    "u[:4] + u[4:]"
   ]
  },
  {
   "cell_type": "code",
   "execution_count": 37,
   "id": "framed-beijing",
   "metadata": {},
   "outputs": [
    {
     "data": {
      "text/plain": [
       "'bd'"
      ]
     },
     "execution_count": 37,
     "metadata": {},
     "output_type": "execute_result"
    }
   ],
   "source": [
    "u[1:5:2]"
   ]
  },
  {
   "cell_type": "markdown",
   "id": "extended-panic",
   "metadata": {},
   "source": [
    "Test de préfixe"
   ]
  },
  {
   "cell_type": "code",
   "execution_count": 53,
   "id": "silver-excuse",
   "metadata": {},
   "outputs": [],
   "source": [
    "u = \"abcdef\"\n",
    "v = \"abc\""
   ]
  },
  {
   "cell_type": "code",
   "execution_count": 54,
   "id": "fitted-timothy",
   "metadata": {},
   "outputs": [
    {
     "data": {
      "text/plain": [
       "True"
      ]
     },
     "execution_count": 54,
     "metadata": {},
     "output_type": "execute_result"
    }
   ],
   "source": [
    "u[:len(v)] == v"
   ]
  },
  {
   "cell_type": "markdown",
   "id": "accepting-dress",
   "metadata": {},
   "source": [
    "Test de suffixe"
   ]
  },
  {
   "cell_type": "code",
   "execution_count": 57,
   "id": "demonstrated-america",
   "metadata": {},
   "outputs": [],
   "source": [
    "u = \"abcdefgh\"\n",
    "v = \"fgh\""
   ]
  },
  {
   "cell_type": "code",
   "execution_count": 58,
   "id": "pretty-assault",
   "metadata": {},
   "outputs": [
    {
     "data": {
      "text/plain": [
       "False"
      ]
     },
     "execution_count": 58,
     "metadata": {},
     "output_type": "execute_result"
    }
   ],
   "source": [
    "u[len(v):] == v"
   ]
  },
  {
   "cell_type": "code",
   "execution_count": 61,
   "id": "solid-donna",
   "metadata": {},
   "outputs": [
    {
     "data": {
      "text/plain": [
       "True"
      ]
     },
     "execution_count": 61,
     "metadata": {},
     "output_type": "execute_result"
    }
   ],
   "source": [
    "u[-len(v):] == v"
   ]
  },
  {
   "cell_type": "code",
   "execution_count": 126,
   "id": "likely-console",
   "metadata": {},
   "outputs": [
    {
     "data": {
      "text/plain": [
       "True"
      ]
     },
     "execution_count": 126,
     "metadata": {},
     "output_type": "execute_result"
    }
   ],
   "source": [
    "est_préfixe(\"sd\", \"sdadsf\")"
   ]
  },
  {
   "cell_type": "code",
   "execution_count": 3,
   "id": "little-geneva",
   "metadata": {},
   "outputs": [],
   "source": [
    "est_préfixe??"
   ]
  },
  {
   "cell_type": "markdown",
   "id": "worldwide-coaching",
   "metadata": {},
   "source": [
    "Utilisation du débogueur en ligne:"
   ]
  },
  {
   "cell_type": "code",
   "execution_count": 82,
   "id": "german-associate",
   "metadata": {},
   "outputs": [],
   "source": [
    "import pdb"
   ]
  },
  {
   "cell_type": "code",
   "execution_count": 81,
   "id": "killing-controversy",
   "metadata": {},
   "outputs": [
    {
     "name": "stdout",
     "output_type": "stream",
     "text": [
      "> \u001b[0;32m<string>\u001b[0m(1)\u001b[0;36m<module>\u001b[0;34m()\u001b[0m\n",
      "\n",
      "ipdb> s\n",
      "--Call--\n",
      "> \u001b[0;32m<ipython-input-76-9c2e07a9fad5>\u001b[0m(1)\u001b[0;36mest_suffixe\u001b[0;34m()\u001b[0m\n",
      "\u001b[0;32m----> 1 \u001b[0;31m\u001b[0;32mdef\u001b[0m \u001b[0mest_suffixe\u001b[0m\u001b[0;34m(\u001b[0m\u001b[0mv\u001b[0m\u001b[0;34m,\u001b[0m \u001b[0mu\u001b[0m\u001b[0;34m)\u001b[0m\u001b[0;34m:\u001b[0m\u001b[0;34m\u001b[0m\u001b[0;34m\u001b[0m\u001b[0m\n",
      "\u001b[0m\u001b[0;32m      2 \u001b[0;31m    \u001b[0mprint\u001b[0m\u001b[0;34m(\u001b[0m\u001b[0mv\u001b[0m\u001b[0;34m,\u001b[0m \u001b[0mu\u001b[0m\u001b[0;34m,\u001b[0m \u001b[0mlen\u001b[0m\u001b[0;34m(\u001b[0m\u001b[0mv\u001b[0m\u001b[0;34m)\u001b[0m\u001b[0;34m,\u001b[0m \u001b[0mu\u001b[0m\u001b[0;34m[\u001b[0m\u001b[0;34m-\u001b[0m\u001b[0mlen\u001b[0m\u001b[0;34m(\u001b[0m\u001b[0mv\u001b[0m\u001b[0;34m)\u001b[0m\u001b[0;34m:\u001b[0m\u001b[0;34m]\u001b[0m\u001b[0;34m)\u001b[0m\u001b[0;34m\u001b[0m\u001b[0;34m\u001b[0m\u001b[0m\n",
      "\u001b[0m\u001b[0;32m      3 \u001b[0;31m    \u001b[0;32mreturn\u001b[0m \u001b[0mu\u001b[0m\u001b[0;34m[\u001b[0m\u001b[0;34m-\u001b[0m\u001b[0mlen\u001b[0m\u001b[0;34m(\u001b[0m\u001b[0mv\u001b[0m\u001b[0;34m)\u001b[0m\u001b[0;34m:\u001b[0m\u001b[0;34m]\u001b[0m \u001b[0;34m==\u001b[0m \u001b[0mv\u001b[0m\u001b[0;34m\u001b[0m\u001b[0;34m\u001b[0m\u001b[0m\n",
      "\u001b[0m\n",
      "ipdb> s\n",
      "> \u001b[0;32m<ipython-input-76-9c2e07a9fad5>\u001b[0m(2)\u001b[0;36mest_suffixe\u001b[0;34m()\u001b[0m\n",
      "\u001b[0;32m      1 \u001b[0;31m\u001b[0;32mdef\u001b[0m \u001b[0mest_suffixe\u001b[0m\u001b[0;34m(\u001b[0m\u001b[0mv\u001b[0m\u001b[0;34m,\u001b[0m \u001b[0mu\u001b[0m\u001b[0;34m)\u001b[0m\u001b[0;34m:\u001b[0m\u001b[0;34m\u001b[0m\u001b[0;34m\u001b[0m\u001b[0m\n",
      "\u001b[0m\u001b[0;32m----> 2 \u001b[0;31m    \u001b[0mprint\u001b[0m\u001b[0;34m(\u001b[0m\u001b[0mv\u001b[0m\u001b[0;34m,\u001b[0m \u001b[0mu\u001b[0m\u001b[0;34m,\u001b[0m \u001b[0mlen\u001b[0m\u001b[0;34m(\u001b[0m\u001b[0mv\u001b[0m\u001b[0;34m)\u001b[0m\u001b[0;34m,\u001b[0m \u001b[0mu\u001b[0m\u001b[0;34m[\u001b[0m\u001b[0;34m-\u001b[0m\u001b[0mlen\u001b[0m\u001b[0;34m(\u001b[0m\u001b[0mv\u001b[0m\u001b[0;34m)\u001b[0m\u001b[0;34m:\u001b[0m\u001b[0;34m]\u001b[0m\u001b[0;34m)\u001b[0m\u001b[0;34m\u001b[0m\u001b[0;34m\u001b[0m\u001b[0m\n",
      "\u001b[0m\u001b[0;32m      3 \u001b[0;31m    \u001b[0;32mreturn\u001b[0m \u001b[0mu\u001b[0m\u001b[0;34m[\u001b[0m\u001b[0;34m-\u001b[0m\u001b[0mlen\u001b[0m\u001b[0;34m(\u001b[0m\u001b[0mv\u001b[0m\u001b[0;34m)\u001b[0m\u001b[0;34m:\u001b[0m\u001b[0;34m]\u001b[0m \u001b[0;34m==\u001b[0m \u001b[0mv\u001b[0m\u001b[0;34m\u001b[0m\u001b[0;34m\u001b[0m\u001b[0m\n",
      "\u001b[0m\n",
      "ipdb> s\n",
      "--Call--\n",
      "> \u001b[0;32m/opt/miniconda3/lib/python3.9/site-packages/ipykernel/iostream.py\u001b[0m(384)\u001b[0;36mwrite\u001b[0;34m()\u001b[0m\n",
      "\u001b[0;32m    382 \u001b[0;31m                parent=self.parent_header, ident=self.topic)\n",
      "\u001b[0m\u001b[0;32m    383 \u001b[0;31m\u001b[0;34m\u001b[0m\u001b[0m\n",
      "\u001b[0m\u001b[0;32m--> 384 \u001b[0;31m    \u001b[0;32mdef\u001b[0m \u001b[0mwrite\u001b[0m\u001b[0;34m(\u001b[0m\u001b[0mself\u001b[0m\u001b[0;34m,\u001b[0m \u001b[0mstring\u001b[0m\u001b[0;34m)\u001b[0m\u001b[0;34m:\u001b[0m\u001b[0;34m\u001b[0m\u001b[0;34m\u001b[0m\u001b[0m\n",
      "\u001b[0m\u001b[0;32m    385 \u001b[0;31m        \u001b[0;32mif\u001b[0m \u001b[0mself\u001b[0m\u001b[0;34m.\u001b[0m\u001b[0mecho\u001b[0m \u001b[0;32mis\u001b[0m \u001b[0;32mnot\u001b[0m \u001b[0;32mNone\u001b[0m\u001b[0;34m:\u001b[0m\u001b[0;34m\u001b[0m\u001b[0;34m\u001b[0m\u001b[0m\n",
      "\u001b[0m\u001b[0;32m    386 \u001b[0;31m            \u001b[0;32mtry\u001b[0m\u001b[0;34m:\u001b[0m\u001b[0;34m\u001b[0m\u001b[0;34m\u001b[0m\u001b[0m\n",
      "\u001b[0m\n",
      "ipdb> u\n",
      "> \u001b[0;32m<ipython-input-76-9c2e07a9fad5>\u001b[0m(2)\u001b[0;36mest_suffixe\u001b[0;34m()\u001b[0m\n",
      "\u001b[0;32m      1 \u001b[0;31m\u001b[0;32mdef\u001b[0m \u001b[0mest_suffixe\u001b[0m\u001b[0;34m(\u001b[0m\u001b[0mv\u001b[0m\u001b[0;34m,\u001b[0m \u001b[0mu\u001b[0m\u001b[0;34m)\u001b[0m\u001b[0;34m:\u001b[0m\u001b[0;34m\u001b[0m\u001b[0;34m\u001b[0m\u001b[0m\n",
      "\u001b[0m\u001b[0;32m----> 2 \u001b[0;31m    \u001b[0mprint\u001b[0m\u001b[0;34m(\u001b[0m\u001b[0mv\u001b[0m\u001b[0;34m,\u001b[0m \u001b[0mu\u001b[0m\u001b[0;34m,\u001b[0m \u001b[0mlen\u001b[0m\u001b[0;34m(\u001b[0m\u001b[0mv\u001b[0m\u001b[0;34m)\u001b[0m\u001b[0;34m,\u001b[0m \u001b[0mu\u001b[0m\u001b[0;34m[\u001b[0m\u001b[0;34m-\u001b[0m\u001b[0mlen\u001b[0m\u001b[0;34m(\u001b[0m\u001b[0mv\u001b[0m\u001b[0;34m)\u001b[0m\u001b[0;34m:\u001b[0m\u001b[0;34m]\u001b[0m\u001b[0;34m)\u001b[0m\u001b[0;34m\u001b[0m\u001b[0;34m\u001b[0m\u001b[0m\n",
      "\u001b[0m\u001b[0;32m      3 \u001b[0;31m    \u001b[0;32mreturn\u001b[0m \u001b[0mu\u001b[0m\u001b[0;34m[\u001b[0m\u001b[0;34m-\u001b[0m\u001b[0mlen\u001b[0m\u001b[0;34m(\u001b[0m\u001b[0mv\u001b[0m\u001b[0;34m)\u001b[0m\u001b[0;34m:\u001b[0m\u001b[0;34m]\u001b[0m \u001b[0;34m==\u001b[0m \u001b[0mv\u001b[0m\u001b[0;34m\u001b[0m\u001b[0;34m\u001b[0m\u001b[0m\n",
      "\u001b[0m\n",
      "ipdb> n\n",
      " abcdef 0 abcdef\n",
      "> \u001b[0;32m<ipython-input-76-9c2e07a9fad5>\u001b[0m(3)\u001b[0;36mest_suffixe\u001b[0;34m()\u001b[0m\n",
      "\u001b[0;32m      1 \u001b[0;31m\u001b[0;32mdef\u001b[0m \u001b[0mest_suffixe\u001b[0m\u001b[0;34m(\u001b[0m\u001b[0mv\u001b[0m\u001b[0;34m,\u001b[0m \u001b[0mu\u001b[0m\u001b[0;34m)\u001b[0m\u001b[0;34m:\u001b[0m\u001b[0;34m\u001b[0m\u001b[0;34m\u001b[0m\u001b[0m\n",
      "\u001b[0m\u001b[0;32m      2 \u001b[0;31m    \u001b[0mprint\u001b[0m\u001b[0;34m(\u001b[0m\u001b[0mv\u001b[0m\u001b[0;34m,\u001b[0m \u001b[0mu\u001b[0m\u001b[0;34m,\u001b[0m \u001b[0mlen\u001b[0m\u001b[0;34m(\u001b[0m\u001b[0mv\u001b[0m\u001b[0;34m)\u001b[0m\u001b[0;34m,\u001b[0m \u001b[0mu\u001b[0m\u001b[0;34m[\u001b[0m\u001b[0;34m-\u001b[0m\u001b[0mlen\u001b[0m\u001b[0;34m(\u001b[0m\u001b[0mv\u001b[0m\u001b[0;34m)\u001b[0m\u001b[0;34m:\u001b[0m\u001b[0;34m]\u001b[0m\u001b[0;34m)\u001b[0m\u001b[0;34m\u001b[0m\u001b[0;34m\u001b[0m\u001b[0m\n",
      "\u001b[0m\u001b[0;32m----> 3 \u001b[0;31m    \u001b[0;32mreturn\u001b[0m \u001b[0mu\u001b[0m\u001b[0;34m[\u001b[0m\u001b[0;34m-\u001b[0m\u001b[0mlen\u001b[0m\u001b[0;34m(\u001b[0m\u001b[0mv\u001b[0m\u001b[0;34m)\u001b[0m\u001b[0;34m:\u001b[0m\u001b[0;34m]\u001b[0m \u001b[0;34m==\u001b[0m \u001b[0mv\u001b[0m\u001b[0;34m\u001b[0m\u001b[0;34m\u001b[0m\u001b[0m\n",
      "\u001b[0m\n",
      "ipdb> p u\n",
      "'abcdef'\n",
      "ipdb> p v\n",
      "''\n",
      "ipdb> p len(v)\n",
      "0\n",
      "ipdb> p u[-len(v)]\n",
      "'a'\n",
      "ipdb> p u[-len(v):]\n",
      "'abcdef'\n",
      "ipdb> p -len(v)\n",
      "0\n",
      "ipdb> q\n"
     ]
    }
   ],
   "source": [
    "pdb.run('est_suffixe(\"\",\"abcdef\")')"
   ]
  },
  {
   "cell_type": "markdown",
   "id": "biological-fighter",
   "metadata": {},
   "source": [
    "## Langages préfixes"
   ]
  },
  {
   "cell_type": "markdown",
   "id": "2e1829c8",
   "metadata": {},
   "source": [
    "Rappel: un langage `L` est préfixe si aucun mot n'est préfixe d'un autre distinct\n",
    "$$\\neg \\text{est_préfixe}(u,v), \\quad \\forall u, v \\in L$$"
   ]
  },
  {
   "cell_type": "code",
   "execution_count": 1,
   "id": "former-translation",
   "metadata": {},
   "outputs": [],
   "source": [
    "L_non_préfixe = {'a', 'ab'}"
   ]
  },
  {
   "cell_type": "code",
   "execution_count": 2,
   "id": "killing-empty",
   "metadata": {},
   "outputs": [
    {
     "ename": "NameError",
     "evalue": "name 'est_préfixe' is not defined",
     "output_type": "error",
     "traceback": [
      "\u001b[0;31m---------------------------------------------------------------------------\u001b[0m",
      "\u001b[0;31mNameError\u001b[0m                                 Traceback (most recent call last)",
      "\u001b[0;32m/tmp/ipykernel_43550/4237282512.py\u001b[0m in \u001b[0;36m<module>\u001b[0;34m\u001b[0m\n\u001b[1;32m      3\u001b[0m \u001b[0;32mfor\u001b[0m \u001b[0mv\u001b[0m \u001b[0;32min\u001b[0m \u001b[0mL\u001b[0m\u001b[0;34m:\u001b[0m\u001b[0;34m\u001b[0m\u001b[0;34m\u001b[0m\u001b[0m\n\u001b[1;32m      4\u001b[0m     \u001b[0;32mfor\u001b[0m \u001b[0mu\u001b[0m \u001b[0;32min\u001b[0m \u001b[0mL\u001b[0m\u001b[0;34m:\u001b[0m\u001b[0;34m\u001b[0m\u001b[0;34m\u001b[0m\u001b[0m\n\u001b[0;32m----> 5\u001b[0;31m         \u001b[0;32mif\u001b[0m \u001b[0mv\u001b[0m \u001b[0;34m!=\u001b[0m \u001b[0mu\u001b[0m \u001b[0;32mand\u001b[0m \u001b[0mest_préfixe\u001b[0m\u001b[0;34m(\u001b[0m\u001b[0mv\u001b[0m\u001b[0;34m,\u001b[0m \u001b[0mu\u001b[0m\u001b[0;34m)\u001b[0m\u001b[0;34m:\u001b[0m\u001b[0;34m\u001b[0m\u001b[0;34m\u001b[0m\u001b[0m\n\u001b[0m\u001b[1;32m      6\u001b[0m             \u001b[0mprint\u001b[0m\u001b[0;34m(\u001b[0m\u001b[0;34m\"langage non préfixe\"\u001b[0m\u001b[0;34m)\u001b[0m\u001b[0;34m\u001b[0m\u001b[0;34m\u001b[0m\u001b[0m\n",
      "\u001b[0;31mNameError\u001b[0m: name 'est_préfixe' is not defined"
     ]
    }
   ],
   "source": [
    "L = L_non_préfixe\n",
    "\n",
    "for v in L:\n",
    "    for u in L:\n",
    "        if v != u and est_préfixe(v, u):\n",
    "            print(\"langage non préfixe\")"
   ]
  },
  {
   "cell_type": "markdown",
   "id": "18cacd5c",
   "metadata": {},
   "source": [
    "Digression: compréhensions (voir tutoriel!)"
   ]
  },
  {
   "cell_type": "markdown",
   "id": "proved-telescope",
   "metadata": {},
   "source": [
    "$\\{ x^2, x \\in \\{1,2,3,4,5,6\\} \\text{ si $x^2\\leq 10$}\\}$"
   ]
  },
  {
   "cell_type": "code",
   "execution_count": 111,
   "id": "agreed-cathedral",
   "metadata": {},
   "outputs": [
    {
     "data": {
      "text/plain": [
       "[1, 4, 9]"
      ]
     },
     "execution_count": 111,
     "metadata": {},
     "output_type": "execute_result"
    }
   ],
   "source": [
    "[ x**2 \n",
    "  for x in [1,2,3,4,5,6]\n",
    "  if x**2 <= 10 ]"
   ]
  },
  {
   "cell_type": "code",
   "execution_count": 113,
   "id": "bulgarian-details",
   "metadata": {},
   "outputs": [
    {
     "data": {
      "text/plain": [
       "[False, True, False, False]"
      ]
     },
     "execution_count": 113,
     "metadata": {},
     "output_type": "execute_result"
    }
   ],
   "source": [
    "[ u!=v and est_préfixe(v,u)\n",
    "  for u in L\n",
    "  for v in L]"
   ]
  },
  {
   "cell_type": "code",
   "execution_count": 114,
   "id": "electoral-messenger",
   "metadata": {},
   "outputs": [
    {
     "data": {
      "text/plain": [
       "False"
      ]
     },
     "execution_count": 114,
     "metadata": {},
     "output_type": "execute_result"
    }
   ],
   "source": [
    "all( [True, False, True ] )"
   ]
  },
  {
   "cell_type": "code",
   "execution_count": 115,
   "id": "equivalent-patient",
   "metadata": {},
   "outputs": [
    {
     "data": {
      "text/plain": [
       "True"
      ]
     },
     "execution_count": 115,
     "metadata": {},
     "output_type": "execute_result"
    }
   ],
   "source": [
    "all( [True, True, True ] )"
   ]
  },
  {
   "cell_type": "code",
   "execution_count": 116,
   "id": "blank-patrol",
   "metadata": {},
   "outputs": [
    {
     "data": {
      "text/plain": [
       "True"
      ]
     },
     "execution_count": 116,
     "metadata": {},
     "output_type": "execute_result"
    }
   ],
   "source": [
    "any( [True, False, False])"
   ]
  },
  {
   "cell_type": "markdown",
   "id": "a30865ed",
   "metadata": {},
   "source": [
    "Formule logique exprimant que L est un langage préfixe:"
   ]
  },
  {
   "cell_type": "code",
   "execution_count": 118,
   "id": "minus-review",
   "metadata": {},
   "outputs": [
    {
     "data": {
      "text/plain": [
       "False"
      ]
     },
     "execution_count": 118,
     "metadata": {},
     "output_type": "execute_result"
    }
   ],
   "source": [
    "not any([ u!=v and est_préfixe(v,u)\n",
    "          for u in L\n",
    "          for v in L])"
   ]
  },
  {
   "cell_type": "markdown",
   "id": "b88a63d7",
   "metadata": {},
   "source": [
    "À partir de là on peut produire le code mis dans mots.py"
   ]
  }
 ],
 "metadata": {
  "kernelspec": {
   "display_name": "SageMath 9.5.beta3",
   "language": "sage",
   "name": "sagemath"
  },
  "language_info": {
   "codemirror_mode": {
    "name": "ipython",
    "version": 3
   },
   "file_extension": ".py",
   "mimetype": "text/x-python",
   "name": "python",
   "nbconvert_exporter": "python",
   "pygments_lexer": "ipython3",
   "version": "3.8.10"
  },
  "toc": {
   "base_numbering": 1,
   "nav_menu": {},
   "number_sections": false,
   "sideBar": true,
   "skip_h1_title": false,
   "title_cell": "Table of Contents",
   "title_sidebar": "Contents",
   "toc_cell": false,
   "toc_position": {},
   "toc_section_display": true,
   "toc_window_display": false
  },
  "varInspector": {
   "cols": {
    "lenName": 16,
    "lenType": 16,
    "lenVar": 40
   },
   "kernels_config": {
    "0": "{",
    "1": " ",
    "10": "'",
    "100": "e",
    "101": "l",
    "102": "e",
    "103": "t",
    "104": "e",
    "105": "_",
    "106": "c",
    "107": "m",
    "108": "d",
    "109": "_",
    "11": ":",
    "110": "p",
    "111": "o",
    "112": "s",
    "113": "t",
    "114": "f",
    "115": "i",
    "116": "x",
    "117": ":",
    "118": " ",
    "119": "'",
    "12": " ",
    "120": "'",
    "121": ",",
    "122": " ",
    "123": " ",
    "124": " ",
    "125": " ",
    "126": " ",
    "127": " ",
    "128": " ",
    "129": " ",
    "13": "{",
    "130": " ",
    "131": " ",
    "132": " ",
    "133": " ",
    "134": "v",
    "135": "a",
    "136": "r",
    "137": "R",
    "138": "e",
    "139": "f",
    "14": " ",
    "140": "r",
    "141": "e",
    "142": "s",
    "143": "h",
    "144": "C",
    "145": "m",
    "146": "d",
    "147": ":",
    "148": " ",
    "149": "'",
    "15": " ",
    "150": "p",
    "151": "r",
    "152": "i",
    "153": "n",
    "154": "t",
    "155": "(",
    "156": "v",
    "157": "a",
    "158": "r",
    "159": "_",
    "16": " ",
    "160": "d",
    "161": "i",
    "162": "c",
    "163": "_",
    "164": "l",
    "165": "i",
    "166": "s",
    "167": "t",
    "168": "(",
    "169": ")",
    "17": " ",
    "170": ")",
    "171": "'",
    "172": " ",
    "173": " ",
    "174": " ",
    "175": " ",
    "176": " ",
    "177": " ",
    "178": " ",
    "179": " ",
    "18": " ",
    "180": "}",
    "181": ",",
    "182": " ",
    "183": " ",
    "184": "'",
    "185": "r",
    "186": "'",
    "187": ":",
    "188": " ",
    "189": "{",
    "19": " ",
    "190": " ",
    "191": " ",
    "192": " ",
    "193": " ",
    "194": " ",
    "195": " ",
    "196": " ",
    "197": " ",
    "198": " ",
    "199": " ",
    "2": " ",
    "20": " ",
    "200": " ",
    "201": " ",
    "202": "l",
    "203": "i",
    "204": "b",
    "205": "r",
    "206": "a",
    "207": "r",
    "208": "y",
    "209": ":",
    "21": " ",
    "210": " ",
    "211": "'",
    "212": "v",
    "213": "a",
    "214": "r",
    "215": "_",
    "216": "l",
    "217": "i",
    "218": "s",
    "219": "t",
    "22": " ",
    "220": ".",
    "221": "r",
    "222": "'",
    "223": ",",
    "224": " ",
    "225": " ",
    "226": " ",
    "227": " ",
    "228": " ",
    "229": " ",
    "23": " ",
    "230": " ",
    "231": " ",
    "232": " ",
    "233": " ",
    "234": " ",
    "235": " ",
    "236": "d",
    "237": "e",
    "238": "l",
    "239": "e",
    "24": " ",
    "240": "t",
    "241": "e",
    "242": "_",
    "243": "c",
    "244": "m",
    "245": "d",
    "246": "_",
    "247": "p",
    "248": "r",
    "249": "e",
    "25": " ",
    "250": "f",
    "251": "i",
    "252": "x",
    "253": ":",
    "254": " ",
    "255": "'",
    "256": "r",
    "257": "m",
    "258": "(",
    "259": "'",
    "26": "l",
    "260": ",",
    "261": " ",
    "262": " ",
    "263": " ",
    "264": " ",
    "265": " ",
    "266": " ",
    "267": " ",
    "268": " ",
    "269": " ",
    "27": "i",
    "270": " ",
    "271": " ",
    "272": " ",
    "273": "d",
    "274": "e",
    "275": "l",
    "276": "e",
    "277": "t",
    "278": "e",
    "279": "_",
    "28": "b",
    "280": "c",
    "281": "m",
    "282": "d",
    "283": "_",
    "284": "p",
    "285": "o",
    "286": "s",
    "287": "t",
    "288": "f",
    "289": "i",
    "29": "r",
    "290": "x",
    "291": ":",
    "292": " ",
    "293": "'",
    "294": ")",
    "295": " ",
    "296": "'",
    "297": ",",
    "298": " ",
    "299": " ",
    "3": "'",
    "30": "a",
    "300": " ",
    "301": " ",
    "302": " ",
    "303": " ",
    "304": " ",
    "305": " ",
    "306": " ",
    "307": " ",
    "308": " ",
    "309": " ",
    "31": "r",
    "310": "v",
    "311": "a",
    "312": "r",
    "313": "R",
    "314": "e",
    "315": "f",
    "316": "r",
    "317": "e",
    "318": "s",
    "319": "h",
    "32": "y",
    "320": "C",
    "321": "m",
    "322": "d",
    "323": ":",
    "324": " ",
    "325": "'",
    "326": "c",
    "327": "a",
    "328": "t",
    "329": "(",
    "33": ":",
    "330": "v",
    "331": "a",
    "332": "r",
    "333": "_",
    "334": "d",
    "335": "i",
    "336": "c",
    "337": "_",
    "338": "l",
    "339": "i",
    "34": " ",
    "340": "s",
    "341": "t",
    "342": "(",
    "343": ")",
    "344": ")",
    "345": " ",
    "346": "'",
    "347": " ",
    "348": " ",
    "349": " ",
    "35": "'",
    "350": " ",
    "351": " ",
    "352": " ",
    "353": " ",
    "354": " ",
    "355": "}",
    "356": "}",
    "36": "v",
    "37": "a",
    "38": "r",
    "39": "_",
    "4": "p",
    "40": "l",
    "41": "i",
    "42": "s",
    "43": "t",
    "44": ".",
    "45": "p",
    "46": "y",
    "47": "'",
    "48": ",",
    "49": " ",
    "5": "y",
    "50": " ",
    "51": " ",
    "52": " ",
    "53": " ",
    "54": " ",
    "55": " ",
    "56": " ",
    "57": " ",
    "58": " ",
    "59": " ",
    "6": "t",
    "60": " ",
    "61": "d",
    "62": "e",
    "63": "l",
    "64": "e",
    "65": "t",
    "66": "e",
    "67": "_",
    "68": "c",
    "69": "m",
    "7": "h",
    "70": "d",
    "71": "_",
    "72": "p",
    "73": "r",
    "74": "e",
    "75": "f",
    "76": "i",
    "77": "x",
    "78": ":",
    "79": " ",
    "8": "o",
    "80": "'",
    "81": "d",
    "82": "e",
    "83": "l",
    "84": " ",
    "85": "'",
    "86": ",",
    "87": " ",
    "88": " ",
    "89": " ",
    "9": "n",
    "90": " ",
    "91": " ",
    "92": " ",
    "93": " ",
    "94": " ",
    "95": " ",
    "96": " ",
    "97": " ",
    "98": " ",
    "99": "d"
   },
   "types_to_exclude": [
    "module",
    "function",
    "builtin_function_or_method",
    "instance",
    "_Feature"
   ],
   "window_display": false
  }
 },
 "nbformat": 4,
 "nbformat_minor": 5
}
